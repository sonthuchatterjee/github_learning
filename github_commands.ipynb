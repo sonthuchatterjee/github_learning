{
  "cells": [
    {
      "cell_type": "code",
      "source": [
        "import timeit\n",
        "import random as rd\n",
        "setup_code='''import random as rd\n",
        "sum=0'''\n",
        "\n",
        "print(timeit.timeit(setup= setup_code,stmt='[sum+i for i in range(rd.randint(100000,10000000))]',number=1))"
      ],
      "metadata": {
        "colab": {
          "base_uri": "https://localhost:8080/"
        },
        "id": "01qoIenIx_SV",
        "outputId": "d75f4121-8325-4d60-e7ed-9f379e5b4e4f"
      },
      "execution_count": null,
      "outputs": [
        {
          "output_type": "stream",
          "name": "stdout",
          "text": [
            "0.5187071250002191\n"
          ]
        }
      ]
    },
    {
      "cell_type": "code",
      "source": [
        "from array import array\n",
        "import random as rd\n",
        "\n",
        "arr1=array('i',(rd.randint(1,100) for i in range(1,100)))\n",
        "print(arr1)\n",
        "\n",
        "arr1=arr1 + array('i',(rd.randint(100,1000) for i in range(1,100)))\n",
        "print(arr1)\n",
        "\n",
        "\n",
        "lis1=[rd.randint(1,100) for i in range(1,100)]\n",
        "print(lis1)\n",
        "\n",
        "lis1=lis1 + [rd.randint(100,1000) for i in range(1,100)]\n",
        "print(lis1)"
      ],
      "metadata": {
        "colab": {
          "base_uri": "https://localhost:8080/"
        },
        "id": "tdPXd1DX3qRG",
        "outputId": "3cba3e3f-af85-479b-e084-e8ea346807d0"
      },
      "execution_count": null,
      "outputs": [
        {
          "output_type": "stream",
          "name": "stdout",
          "text": [
            "array('i', [32, 54, 61, 54, 73, 80, 11, 37, 49, 65, 61, 51, 23, 49, 77, 32, 52, 43, 75, 10, 20, 15, 15, 77, 28, 52, 16, 15, 22, 67, 33, 46, 44, 15, 13, 82, 63, 86, 100, 90, 51, 56, 32, 96, 97, 92, 8, 33, 98, 71, 78, 46, 24, 60, 1, 83, 15, 74, 12, 54, 17, 56, 13, 24, 56, 13, 6, 12, 8, 42, 42, 68, 73, 44, 9, 29, 98, 41, 16, 8, 22, 14, 45, 76, 72, 56, 25, 55, 36, 18, 93, 20, 40, 80, 63, 54, 51, 82, 29])\n",
            "array('i', [32, 54, 61, 54, 73, 80, 11, 37, 49, 65, 61, 51, 23, 49, 77, 32, 52, 43, 75, 10, 20, 15, 15, 77, 28, 52, 16, 15, 22, 67, 33, 46, 44, 15, 13, 82, 63, 86, 100, 90, 51, 56, 32, 96, 97, 92, 8, 33, 98, 71, 78, 46, 24, 60, 1, 83, 15, 74, 12, 54, 17, 56, 13, 24, 56, 13, 6, 12, 8, 42, 42, 68, 73, 44, 9, 29, 98, 41, 16, 8, 22, 14, 45, 76, 72, 56, 25, 55, 36, 18, 93, 20, 40, 80, 63, 54, 51, 82, 29, 795, 320, 514, 804, 869, 714, 500, 874, 949, 368, 419, 159, 597, 934, 719, 506, 488, 223, 634, 670, 480, 548, 673, 473, 210, 439, 970, 934, 605, 922, 925, 357, 300, 849, 848, 355, 527, 610, 483, 239, 370, 461, 141, 600, 920, 726, 514, 939, 939, 692, 577, 481, 725, 440, 117, 936, 606, 633, 521, 671, 604, 388, 168, 119, 987, 630, 237, 691, 685, 993, 563, 233, 808, 224, 525, 963, 659, 149, 654, 844, 614, 929, 176, 344, 368, 712, 507, 902, 982, 282, 333, 686, 770, 758, 154, 997, 742, 833, 785])\n",
            "[67, 28, 44, 32, 79, 39, 90, 45, 61, 74, 25, 70, 96, 33, 82, 20, 86, 87, 30, 16, 18, 12, 9, 95, 9, 59, 13, 73, 35, 54, 49, 47, 80, 76, 62, 10, 85, 40, 13, 77, 64, 81, 62, 60, 8, 12, 16, 44, 99, 17, 43, 61, 65, 8, 32, 49, 48, 28, 28, 7, 71, 39, 38, 8, 5, 2, 41, 46, 42, 78, 19, 50, 62, 88, 45, 54, 22, 43, 79, 5, 5, 27, 53, 29, 84, 78, 3, 41, 84, 43, 39, 91, 53, 56, 86, 1, 5, 18, 26]\n",
            "[67, 28, 44, 32, 79, 39, 90, 45, 61, 74, 25, 70, 96, 33, 82, 20, 86, 87, 30, 16, 18, 12, 9, 95, 9, 59, 13, 73, 35, 54, 49, 47, 80, 76, 62, 10, 85, 40, 13, 77, 64, 81, 62, 60, 8, 12, 16, 44, 99, 17, 43, 61, 65, 8, 32, 49, 48, 28, 28, 7, 71, 39, 38, 8, 5, 2, 41, 46, 42, 78, 19, 50, 62, 88, 45, 54, 22, 43, 79, 5, 5, 27, 53, 29, 84, 78, 3, 41, 84, 43, 39, 91, 53, 56, 86, 1, 5, 18, 26, 134, 473, 866, 635, 666, 571, 533, 126, 521, 831, 981, 246, 977, 863, 821, 197, 308, 655, 951, 939, 415, 399, 258, 884, 689, 877, 149, 590, 718, 668, 382, 626, 234, 812, 776, 310, 100, 161, 852, 252, 944, 925, 385, 599, 264, 209, 192, 502, 591, 192, 714, 381, 213, 399, 396, 896, 553, 179, 348, 890, 579, 983, 232, 120, 382, 614, 210, 776, 522, 534, 998, 653, 239, 879, 324, 510, 907, 642, 746, 497, 159, 303, 155, 134, 416, 399, 345, 502, 985, 900, 644, 594, 785, 397, 745, 742, 454, 853, 892]\n"
          ]
        }
      ]
    },
    {
      "cell_type": "code",
      "source": [
        "import timeit\n",
        "\n",
        "setup_code='''from array import array\n",
        "import random as rd'''\n",
        "\n",
        "stmt_code='''arr1=array('i',(rd.randint(1,10000) for i in range(1,100)))\n",
        "\n",
        "arr1=arr1 + array('i',(rd.randint(10000,100000000) for i in range(1,100)))'''\n",
        "\n",
        "x=timeit.timeit(setup=setup_code,stmt=stmt_code,number=1)\n",
        "print(x)"
      ],
      "metadata": {
        "colab": {
          "base_uri": "https://localhost:8080/"
        },
        "id": "zbhZd0BI7K9G",
        "outputId": "b57ae77c-e49c-40ed-a17b-0111824c4389"
      },
      "execution_count": null,
      "outputs": [
        {
          "output_type": "stream",
          "name": "stdout",
          "text": [
            "0.00015111500033526681\n"
          ]
        }
      ]
    },
    {
      "cell_type": "code",
      "source": [
        "import timeit\n",
        "\n",
        "setup_code='''from array import array\n",
        "import random as rd'''\n",
        "\n",
        "stmt_code='''lis1=[rd.randint(1,10000) for i in range(1,100)]\n",
        "\n",
        "lis1=lis1 + [rd.randint(10000,100000000) for i in range(1,100)]'''\n",
        "\n",
        "x=timeit.timeit(setup=setup_code,stmt=stmt_code,number=1)\n",
        "print(x)"
      ],
      "metadata": {
        "colab": {
          "base_uri": "https://localhost:8080/"
        },
        "id": "Var-_1c38Wri",
        "outputId": "6319efa5-ad3e-405c-9675-74c4a53fe872"
      },
      "execution_count": null,
      "outputs": [
        {
          "output_type": "stream",
          "name": "stdout",
          "text": [
            "0.0001355639997200342\n"
          ]
        }
      ]
    },
    {
      "cell_type": "code",
      "source": [
        "#all the methods that can be applied on arrays\n",
        "#addition\n",
        "#in place addition\n",
        "#multiplication with scalar value\n",
        "#in place multiplication with scalar value\n",
        "#append\n",
        "#extend\n",
        "#pop(<position>)\n",
        "#remove(<value>)\n",
        "#reverse\n",
        "#clear\n",
        "#fromfile()\n",
        "#fromlist()\n",
        "#tofile()\n",
        "#count\n",
        "#index\n",
        "#insert\n",
        "#copy.copy(<array)\n",
        "#copy.deepcopy(<array>)\n"
      ],
      "metadata": {
        "id": "pC6lAVWNH-aP",
        "outputId": "5235968b-aa59-4b4d-8025-9f0f1520513d",
        "colab": {
          "base_uri": "https://localhost:8080/",
          "height": 176
        }
      },
      "execution_count": null,
      "outputs": [
        {
          "output_type": "error",
          "ename": "TypeError",
          "evalue": "can't multiply sequence by non-int of type 'list'",
          "traceback": [
            "\u001b[0;31m---------------------------------------------------------------------------\u001b[0m",
            "\u001b[0;31mTypeError\u001b[0m                                 Traceback (most recent call last)",
            "\u001b[0;32m<ipython-input-1-c986225f02d8>\u001b[0m in \u001b[0;36m<cell line: 0>\u001b[0;34m()\u001b[0m\n\u001b[1;32m      6\u001b[0m \u001b[0mlis1\u001b[0m \u001b[0;34m=\u001b[0m \u001b[0;34m[\u001b[0m\u001b[0;36m1\u001b[0m\u001b[0;34m,\u001b[0m\u001b[0;36m2\u001b[0m\u001b[0;34m,\u001b[0m\u001b[0;36m3\u001b[0m\u001b[0;34m]\u001b[0m\u001b[0;34m\u001b[0m\u001b[0;34m\u001b[0m\u001b[0m\n\u001b[1;32m      7\u001b[0m \u001b[0mlis2\u001b[0m\u001b[0;34m=\u001b[0m\u001b[0;34m[\u001b[0m\u001b[0;36m4\u001b[0m\u001b[0;34m,\u001b[0m\u001b[0;36m5\u001b[0m\u001b[0;34m,\u001b[0m\u001b[0;36m6\u001b[0m\u001b[0;34m]\u001b[0m\u001b[0;34m\u001b[0m\u001b[0;34m\u001b[0m\u001b[0m\n\u001b[0;32m----> 8\u001b[0;31m \u001b[0mprint\u001b[0m\u001b[0;34m(\u001b[0m\u001b[0mlis1\u001b[0m\u001b[0;34m*\u001b[0m\u001b[0mlis2\u001b[0m\u001b[0;34m)\u001b[0m\u001b[0;34m\u001b[0m\u001b[0;34m\u001b[0m\u001b[0m\n\u001b[0m",
            "\u001b[0;31mTypeError\u001b[0m: can't multiply sequence by non-int of type 'list'"
          ]
        }
      ]
    }
  ],
  "metadata": {
    "kernelspec": {
      "display_name": "virenv",
      "language": "python",
      "name": "python3"
    },
    "language_info": {
      "name": "python",
      "version": "3.10.1"
    },
    "colab": {
      "provenance": []
    }
  },
  "nbformat": 4,
  "nbformat_minor": 0
}