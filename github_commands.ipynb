{
  "cells": [
    {
      "cell_type": "markdown",
      "source": [
        "Git commands are as below\n",
        "1) Git status\n",
        "2) git init\n",
        "3) git reset # this removes the files from the staging area to the working directory in local\n",
        "4) git switch -c <branch name> # this creates a new branch\n",
        "5) or git branch <branch name>\n",
        "6) git switch <branch name> or git checkout <branch name> # this takes you to the github branch\n",
        "7) git --version\n",
        "8) git add < file name> or '.' # this will add the files from working directory to the staging area\n",
        "9) git commit -m \"<commit message\"\n",
        "10) git config --list\n",
        "11) git log\n",
        "12) git log --oneline\n",
        "13) git config --global core.editor \"code --wait\"\n",
        "14) git config --global user.email \"your-email@example.com\"\n",
        "15) git config --global user.name \"Your Name\"\n",
        "16) git diff # this gives the difference between staged and working directory files\n",
        "17) dit diff --staged #this gives the difference between staged and last commit\n",
        "18) git diff < branch name1> < branch name2>\n",
        "19) or git diff < branch name1>..< branch name2>\n",
        "20) git diff < commit hash1>..< commit hash2>\n",
        "21) git stash\n",
        "22) git stash save \"work in progress on X feature\"\n",
        "23) git stash apply # This applies the files in stash back to the working directory\n",
        "24) git stash apply stash@{0} # you can apply a specific stash to the working directory\n",
        "25) git stash drop\n",
        "26) git stash pop # this applies the stash and then gets deleted\n",
        "27) git stash apply stash@{0} < branch-name>\n",
        "28) git rebase main # you have to first go to the branch from which you want to rebase i.e change the head to the most recent commit in main\n",
        "30) git reset --hard <commit-hash>\n",
        "31) git remote -v\n",
        "32) git remote add origin https://github.com/hiteshchoudhary/chai-something.git\n",
        "33) git push -u origin main\n",
        "34) git fetch < remote-name>\n",
        "35) git pull origin main"
      ],
      "metadata": {
        "id": "syqn5XiQMz3h"
      }
    }
  ],
  "metadata": {
    "kernelspec": {
      "display_name": "virenv",
      "language": "python",
      "name": "python3"
    },
    "language_info": {
      "name": "python",
      "version": "3.10.1"
    },
    "colab": {
      "provenance": []
    }
  },
  "nbformat": 4,
  "nbformat_minor": 0
}