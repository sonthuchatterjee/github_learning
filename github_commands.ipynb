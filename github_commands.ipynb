{
  "cells": [
    {
      "cell_type": "markdown",
      "source": [
        "Git commands are as below\n",
        "1) Git status\n",
        "2) git init\n",
        "3) git reset # this removes the files from the staging area to the working directory in local\n",
        "4) git switch -c <branch name> # this creates a new branch\n",
        "5) or git branch <branch name>\n",
        "6) git switch <branch name> or git checkout <branch name> # this takes you to the github branch\n",
        "7) git --version\n",
        "8) git add < file name> or '.' # this will add the files from working directory to the staging area\n",
        "9) git commit -m \"<commit message\"\n",
        "10) git config --list\n",
        "11) git log\n",
        "12) git log --oneline\n",
        "13) git config --global core.editor \"code --wait\"\n",
        "14) git config --global user.email \"your-email@example.com\"\n",
        "15) git config --global user.name \"Your Name\"\n",
        "16) git diff # this gives the difference between staged and working directory files\n",
        "17) dit diff --staged #this gives the difference between staged and last commit\n",
        "18) git diff <branch name1> <branch name2> or git diff <branch name1>..<branch name2>\n",
        "19) git diff <commit hash1>..<commit hash2>"
      ],
      "metadata": {
        "id": "syqn5XiQMz3h"
      }
    },
    {
      "cell_type": "markdown",
      "source": [],
      "metadata": {
        "id": "YyoIywXmOXVS"
      }
    },
    {
      "cell_type": "markdown",
      "source": [],
      "metadata": {
        "id": "M7AcldDhOILm"
      }
    }
  ],
  "metadata": {
    "kernelspec": {
      "display_name": "virenv",
      "language": "python",
      "name": "python3"
    },
    "language_info": {
      "name": "python",
      "version": "3.10.1"
    },
    "colab": {
      "provenance": []
    }
  },
  "nbformat": 4,
  "nbformat_minor": 0
}