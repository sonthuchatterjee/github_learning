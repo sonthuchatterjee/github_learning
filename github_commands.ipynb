{
  "cells": [
    {
      "cell_type": "code",
      "source": [
        "Git commands are as below\n",
        "1) Git status\n",
        "2) git init\n",
        "3) git reset # this removes the files from the staging area to the working directory in local\n",
        "4) git switch -c <branch name> # this creates a new branch\n",
        "5) or git branch <branch name>\n",
        "6) git switch <branch name> or git checkout <branch name> # this takes you to the github branch\n",
        "7) git --version\n",
        "8)"
      ],
      "metadata": {
        "id": "8-1zYzJGIkZd"
      },
      "execution_count": null,
      "outputs": []
    }
  ],
  "metadata": {
    "kernelspec": {
      "display_name": "virenv",
      "language": "python",
      "name": "python3"
    },
    "language_info": {
      "name": "python",
      "version": "3.10.1"
    },
    "colab": {
      "provenance": []
    }
  },
  "nbformat": 4,
  "nbformat_minor": 0
}